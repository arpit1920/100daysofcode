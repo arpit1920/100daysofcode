{
 "cells": [
  {
   "cell_type": "code",
   "execution_count": 13,
   "metadata": {},
   "outputs": [
    {
     "name": "stdout",
     "output_type": "stream",
     "text": [
      "{}\n",
      "{'First name': 'Sara', 'Last name': 'Omar', 'Age': 22}\n",
      "Omar\n",
      "22\n",
      "{'First name': 'Sara', 'Last name': 'Omar', 'Age': 23}\n",
      "First name\n",
      "Sara\n",
      "Last name\n",
      "Omar\n",
      "Age\n",
      "23\n",
      "dict_values(['Sara', 'Omar', 23])\n",
      "First name Sara\n",
      "Last name Omar\n",
      "Age 23\n",
      "dict_items([('First name', 'Sara'), ('Last name', 'Omar'), ('Age', 23)])\n"
     ]
    }
   ],
   "source": [
    "# Day 22 Python Dictionaries\n",
    "# In Python dictionaries are written with curly brackets {}, and they have keys and values\n",
    "Firstdict = {}\n",
    "print(Firstdict)\n",
    "dict = {\n",
    "    \"First name\" : \"Sara\",\n",
    "       \"Last name\" : \"Omar\",\n",
    "       \"Age\" : 22\n",
    "       }\n",
    "print(dict)\n",
    "x = dict[\"Last name\"]\n",
    "print(x)\n",
    "y = dict.get(\"Age\")\n",
    "print(y)\n",
    "dict['Age'] = 23\n",
    "print(dict)\n",
    "for a in dict:\n",
    "    print(a)\n",
    "    print(dict[a])\n",
    "print(dict.values())\n",
    "for x,y in dict.items():\n",
    "    print(x,y)\n",
    "print(dict.items())"
   ]
  },
  {
   "cell_type": "code",
   "execution_count": null,
   "metadata": {},
   "outputs": [],
   "source": []
  }
 ],
 "metadata": {
  "kernelspec": {
   "display_name": "Python 3",
   "language": "python",
   "name": "python3"
  },
  "language_info": {
   "codemirror_mode": {
    "name": "ipython",
    "version": 3
   },
   "file_extension": ".py",
   "mimetype": "text/x-python",
   "name": "python",
   "nbconvert_exporter": "python",
   "pygments_lexer": "ipython3",
   "version": "3.7.3"
  }
 },
 "nbformat": 4,
 "nbformat_minor": 2
}
