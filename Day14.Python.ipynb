{
 "cells": [
  {
   "cell_type": "code",
   "execution_count": 14,
   "metadata": {},
   "outputs": [
    {
     "name": "stdout",
     "output_type": "stream",
     "text": [
      "['orange', 'Banana']\n"
     ]
    }
   ],
   "source": [
    "# Day 14 Python Lists 2\n",
    "list = ['apple', 'orange', 'Banana', 'cherry']\n",
    "print(list[1:3])"
   ]
  },
  {
   "cell_type": "code",
   "execution_count": 13,
   "metadata": {},
   "outputs": [
    {
     "name": "stdout",
     "output_type": "stream",
     "text": [
      "Yes, cherry is in the fruits list\n"
     ]
    }
   ],
   "source": [
    "# Check if Item Exists:\n",
    "list = ['apple', 'orange', 'Banana', 'cherry']\n",
    "if 'cherry'in list:\n",
    "    print(\"Yes, cherry is in the fruits list\")"
   ]
  },
  {
   "cell_type": "code",
   "execution_count": 19,
   "metadata": {},
   "outputs": [
    {
     "name": "stdout",
     "output_type": "stream",
     "text": [
      "[' Hello ', ' Hello ', ' Hello ', ' Hello ', ' Hello ']\n"
     ]
    }
   ],
   "source": [
    "# Repeat Item in List:\n",
    "# To repeat an item in a list, use the * operat\n",
    "list = [\" Hello \"] * 5\n",
    "print(list)"
   ]
  },
  {
   "cell_type": "code",
   "execution_count": 20,
   "metadata": {},
   "outputs": [
    {
     "name": "stdout",
     "output_type": "stream",
     "text": [
      "[6.5, 22.5, 9.2, 7.4, 2, 5, 3, 9]\n"
     ]
    }
   ],
   "source": [
    "# + Operator in List:\n",
    "# To add 2 lists or more into one list\n",
    "list1 = [6.5, 22.5, 9.2, 7.4]\n",
    "list2 = [2, 5, 3, 9]\n",
    "list3 = list1 + list2\n",
    "print(list3)"
   ]
  },
  {
   "cell_type": "code",
   "execution_count": null,
   "metadata": {},
   "outputs": [],
   "source": []
  }
 ],
 "metadata": {
  "kernelspec": {
   "display_name": "Python 3",
   "language": "python",
   "name": "python3"
  },
  "language_info": {
   "codemirror_mode": {
    "name": "ipython",
    "version": 3
   },
   "file_extension": ".py",
   "mimetype": "text/x-python",
   "name": "python",
   "nbconvert_exporter": "python",
   "pygments_lexer": "ipython3",
   "version": "3.7.3"
  }
 },
 "nbformat": 4,
 "nbformat_minor": 2
}
