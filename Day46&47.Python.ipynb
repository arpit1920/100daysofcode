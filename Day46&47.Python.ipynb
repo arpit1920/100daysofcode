{
 "cells": [
  {
   "cell_type": "code",
   "execution_count": 8,
   "metadata": {},
   "outputs": [
    {
     "name": "stdout",
     "output_type": "stream",
     "text": [
      "Section name Physics books\n",
      "Shelves numbers 45\n",
      "Books numbers 300\n",
      "\t\n",
      "after changing the content:\t\n",
      "\n",
      "Section name Physics books\n",
      "Shelves numbers 4\n",
      "Books numbers 300\n"
     ]
    }
   ],
   "source": [
    "# Task 7\n",
    "class library():\n",
    "    def __init__(self, shelf=45, book=300):\n",
    "        self.shelf = shelf\n",
    "        self.book = book\n",
    "        \n",
    "my_library = library(shelf=45, book=300)\n",
    "class science_section(library):\n",
    "    def __init__(self, name, shelf = 45, book = 300):\n",
    "        super().__init__(shelf,book)\n",
    "        self.name = name\n",
    "    def printcontent(self):\n",
    "        print(\"Section name\", self.name)\n",
    "        print(\"Shelves numbers\", self.shelf)\n",
    "        print(\"Books numbers\", self.book)\n",
    "        \n",
    "my_section = science_section(name = \"Physics books\")\n",
    "my_section.printcontent()\n",
    "# finally:\n",
    "my_section.shelf = 4\n",
    "my_section.books = 20\n",
    "print(\"\\t\\nafter changing the content:\\t\\n\")\n",
    "my_section.printcontent()"
   ]
  },
  {
   "cell_type": "code",
   "execution_count": null,
   "metadata": {},
   "outputs": [],
   "source": []
  }
 ],
 "metadata": {
  "kernelspec": {
   "display_name": "Python 3",
   "language": "python",
   "name": "python3"
  },
  "language_info": {
   "codemirror_mode": {
    "name": "ipython",
    "version": 3
   },
   "file_extension": ".py",
   "mimetype": "text/x-python",
   "name": "python",
   "nbconvert_exporter": "python",
   "pygments_lexer": "ipython3",
   "version": "3.7.3"
  }
 },
 "nbformat": 4,
 "nbformat_minor": 2
}
