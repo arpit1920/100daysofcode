{
 "cells": [
  {
   "cell_type": "code",
   "execution_count": 17,
   "metadata": {},
   "outputs": [
    {
     "name": "stdout",
     "output_type": "stream",
     "text": [
      "Yes\n",
      "3\n",
      "{'First name': 'Sara', 'Last name': 'Omar', 'Age': 22, 'Color': 'pink'}\n",
      "{'First name': 'Sara', 'Age': 22, 'Color': 'pink'}\n",
      "{'First name': 'Sara', 'Age': 22}\n",
      "<class 'dict'>\n",
      "{}\n"
     ]
    }
   ],
   "source": [
    "# Day 23 Python Dictionaries 2\n",
    "dict = {\n",
    "    \"First name\" : \"Sara\",\n",
    "       \"Last name\" : \"Omar\",\n",
    "       \"Age\" : 22\n",
    "       }\n",
    "if \"Age\" in dict:\n",
    "    print(\"Yes\")\n",
    "print(len(dict))\n",
    "dict [\"Color\"] = \"pink\" \n",
    "print(dict)\n",
    "dict.pop(\"Last name\")\n",
    "print(dict)\n",
    "dict.popitem()\n",
    "print(dict)\n",
    "del dict\n",
    "print(dict)\n",
    "dict = {\n",
    "    \"First name\" : \"Sara\",\n",
    "       \"Last name\" : \"Omar\",\n",
    "       \"Age\" : 22\n",
    "       }\n",
    "dict.clear()\n",
    "print(dict)"
   ]
  },
  {
   "cell_type": "code",
   "execution_count": null,
   "metadata": {},
   "outputs": [],
   "source": []
  }
 ],
 "metadata": {
  "kernelspec": {
   "display_name": "Python 3",
   "language": "python",
   "name": "python3"
  },
  "language_info": {
   "codemirror_mode": {
    "name": "ipython",
    "version": 3
   },
   "file_extension": ".py",
   "mimetype": "text/x-python",
   "name": "python",
   "nbconvert_exporter": "python",
   "pygments_lexer": "ipython3",
   "version": "3.7.3"
  }
 },
 "nbformat": 4,
 "nbformat_minor": 2
}
