{
 "cells": [
  {
   "cell_type": "code",
   "execution_count": 17,
   "metadata": {},
   "outputs": [
    {
     "name": "stdout",
     "output_type": "stream",
     "text": [
      "Please, We want {} sandwishes and {} donutes  Please, I want 5 sandwishes and 7 donutes  PLEASE, I WANT {} SANDWISHES AND {} DONUTES \n"
     ]
    }
   ],
   "source": [
    "# Day 12 Task2\n",
    "a = 5\n",
    "b = 7\n",
    "x = \"Please, I want {} sandwishes and {} donutes \"\n",
    "x = x.replace(\"I\", \"We\")\n",
    "x = x.format(a,b)\n",
    "x = x.replace(\"a\")\n",
    "print(x)"
   ]
  },
  {
   "cell_type": "code",
   "execution_count": null,
   "metadata": {},
   "outputs": [],
   "source": []
  }
 ],
 "metadata": {
  "kernelspec": {
   "display_name": "Python 3",
   "language": "python",
   "name": "python3"
  },
  "language_info": {
   "codemirror_mode": {
    "name": "ipython",
    "version": 3
   },
   "file_extension": ".py",
   "mimetype": "text/x-python",
   "name": "python",
   "nbconvert_exporter": "python",
   "pygments_lexer": "ipython3",
   "version": "3.7.3"
  }
 },
 "nbformat": 4,
 "nbformat_minor": 2
}
