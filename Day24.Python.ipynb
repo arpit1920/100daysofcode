{
 "cells": [
  {
   "cell_type": "code",
   "execution_count": 1,
   "metadata": {},
   "outputs": [
    {
     "name": "stdout",
     "output_type": "stream",
     "text": [
      "{'First name': 'Sara', 'Last name': 'Omar', 'Age': 22}\n"
     ]
    }
   ],
   "source": [
    "# Day 24 Python Dictionaries 3\n",
    "dict = {\n",
    "    \"First name\" : \"Sara\",\n",
    "       \"Last name\" : \"Omar\",\n",
    "       \"Age\" : 22\n",
    "       }\n",
    "mydict = dict.copy()\n",
    "print(mydict)"
   ]
  },
  {
   "cell_type": "code",
   "execution_count": 5,
   "metadata": {},
   "outputs": [
    {
     "name": "stdout",
     "output_type": "stream",
     "text": [
      "{'pro1': {'name': 'Abdulaziz', 'year': 1996}, 'pro2': {'name': 'Faisal', 'year': 2000}}\n"
     ]
    }
   ],
   "source": [
    "# A dictionary can also contain many dictionaries, this is called nested dictionaries\n",
    "myfamily = {\n",
    "    \"pro1\" : {\n",
    "        \"name\" : \"Abdulaziz\",\n",
    "        \"year\" : 1996\n",
    "    },\n",
    "    \"pro2\" : {\n",
    "        \"name\" : \"Faisal\",\n",
    "        \"year\" : 2000\n",
    "    }\n",
    "}\n",
    "print(myfamily)\n",
    "# or u can Create three dictionaries, then create one dictionary that will contain the other three\n",
    "# dictionaries"
   ]
  },
  {
   "cell_type": "code",
   "execution_count": 10,
   "metadata": {},
   "outputs": [
    {
     "ename": "SyntaxError",
     "evalue": "invalid syntax (<ipython-input-10-dd4a02e88c3e>, line 2)",
     "output_type": "error",
     "traceback": [
      "\u001b[0;36m  File \u001b[0;32m\"<ipython-input-10-dd4a02e88c3e>\"\u001b[0;36m, line \u001b[0;32m2\u001b[0m\n\u001b[0;31m    dict2 = dict(\"brand=\"Ford\", model=\"Mustang\", year=1996\")\u001b[0m\n\u001b[0m                            ^\u001b[0m\n\u001b[0;31mSyntaxError\u001b[0m\u001b[0;31m:\u001b[0m invalid syntax\n"
     ]
    }
   ],
   "source": []
  },
  {
   "cell_type": "code",
   "execution_count": null,
   "metadata": {},
   "outputs": [],
   "source": []
  }
 ],
 "metadata": {
  "kernelspec": {
   "display_name": "Python 3",
   "language": "python",
   "name": "python3"
  },
  "language_info": {
   "codemirror_mode": {
    "name": "ipython",
    "version": 3
   },
   "file_extension": ".py",
   "mimetype": "text/x-python",
   "name": "python",
   "nbconvert_exporter": "python",
   "pygments_lexer": "ipython3",
   "version": "3.7.3"
  }
 },
 "nbformat": 4,
 "nbformat_minor": 2
}
