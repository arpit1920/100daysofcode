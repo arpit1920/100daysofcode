{
 "cells": [
  {
   "cell_type": "code",
   "execution_count": 6,
   "metadata": {},
   "outputs": [
    {
     "name": "stdout",
     "output_type": "stream",
     "text": [
      "('Pink', 'Green', 'Blue', 'Black')\n",
      "Blue\n",
      "()\n",
      "(5,)\n",
      "(3, 'Hello', 9.5)\n"
     ]
    }
   ],
   "source": [
    "# Day 16 Python Tuples\n",
    "# In Python tuples are written with round brackets ()\n",
    "tuple = (\"Pink\", \"Green\", \"Blue\", \"Black\")\n",
    "print(tuple)\n",
    "print(tuple[2])\n",
    "tuple1 = ()\n",
    "print(tuple1)\n",
    "tuple2 = (5,)\n",
    "print(tuple2)\n",
    "thistuple = (3, \"Hello\", 9.5)\n",
    "print(thistuple)"
   ]
  },
  {
   "cell_type": "code",
   "execution_count": 7,
   "metadata": {},
   "outputs": [
    {
     "name": "stdout",
     "output_type": "stream",
     "text": [
      "Pink\n",
      "Green\n",
      "Blue\n",
      "Black\n"
     ]
    }
   ],
   "source": [
    "# Change Tuple Values, once a tuple is created, you cannot change its values. Tuples are unchangeable\n",
    "# Loop Through a Tuple:\n",
    "tuple = (\"Pink\", \"Green\", \"Blue\", \"Black\")\n",
    "for x in tuple:\n",
    "    print(x)"
   ]
  },
  {
   "cell_type": "code",
   "execution_count": 8,
   "metadata": {},
   "outputs": [
    {
     "name": "stdout",
     "output_type": "stream",
     "text": [
      "('Pink', 'Green')\n"
     ]
    }
   ],
   "source": [
    "# Once a tuple is created, tuples are unchangeable\n",
    "# Tuples are unchangeable, so you cannot remove items from it,\n",
    "# but you can delete the tuple completely\n",
    "tuple = (\"Pink\", \"Green\", \"Blue\", \"Black\")\n",
    "print(tuple[0:2])"
   ]
  },
  {
   "cell_type": "code",
   "execution_count": null,
   "metadata": {},
   "outputs": [],
   "source": []
  }
 ],
 "metadata": {
  "kernelspec": {
   "display_name": "Python 3",
   "language": "python",
   "name": "python3"
  },
  "language_info": {
   "codemirror_mode": {
    "name": "ipython",
    "version": 3
   },
   "file_extension": ".py",
   "mimetype": "text/x-python",
   "name": "python",
   "nbconvert_exporter": "python",
   "pygments_lexer": "ipython3",
   "version": "3.7.3"
  }
 },
 "nbformat": 4,
 "nbformat_minor": 2
}
