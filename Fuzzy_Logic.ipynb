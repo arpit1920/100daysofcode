{
  "nbformat": 4,
  "nbformat_minor": 0,
  "metadata": {
    "colab": {
      "name": "Fuzzy Logic.ipynb",
      "provenance": []
    },
    "kernelspec": {
      "name": "python3",
      "display_name": "Python 3"
    }
  },
  "cells": [
    {
      "cell_type": "code",
      "metadata": {
        "id": "eS3lp7-cL4fh",
        "colab_type": "code",
        "colab": {
          "base_uri": "https://localhost:8080/",
          "height": 275
        },
        "outputId": "4619fb86-054f-4741-e4d2-393355e7ccf1"
      },
      "source": [
        "pip install -U scikit-fuzzy"
      ],
      "execution_count": 3,
      "outputs": [
        {
          "output_type": "stream",
          "text": [
            "Collecting scikit-fuzzy\n",
            "\u001b[?25l  Downloading https://files.pythonhosted.org/packages/6c/f0/5eb5dbe0fd8dfe7d4651a8f4e591a196623a22b9e5339101e559695b4f6c/scikit-fuzzy-0.4.2.tar.gz (993kB)\n",
            "\u001b[K     |████████████████████████████████| 1.0MB 2.7MB/s \n",
            "\u001b[?25hRequirement already satisfied, skipping upgrade: numpy>=1.6.0 in /usr/local/lib/python3.6/dist-packages (from scikit-fuzzy) (1.18.4)\n",
            "Requirement already satisfied, skipping upgrade: scipy>=0.9.0 in /usr/local/lib/python3.6/dist-packages (from scikit-fuzzy) (1.4.1)\n",
            "Requirement already satisfied, skipping upgrade: networkx>=1.9.0 in /usr/local/lib/python3.6/dist-packages (from scikit-fuzzy) (2.4)\n",
            "Requirement already satisfied, skipping upgrade: decorator>=4.3.0 in /usr/local/lib/python3.6/dist-packages (from networkx>=1.9.0->scikit-fuzzy) (4.4.2)\n",
            "Building wheels for collected packages: scikit-fuzzy\n",
            "  Building wheel for scikit-fuzzy (setup.py) ... \u001b[?25l\u001b[?25hdone\n",
            "  Created wheel for scikit-fuzzy: filename=scikit_fuzzy-0.4.2-cp36-none-any.whl size=894070 sha256=e80792d43b0374ea1d0522c0967883b7dd712ce3e406348be2edc81604a5c076\n",
            "  Stored in directory: /root/.cache/pip/wheels/b9/4e/77/da79b16f64ef1738d95486e2731eea09d73e90a72465096600\n",
            "Successfully built scikit-fuzzy\n",
            "Installing collected packages: scikit-fuzzy\n",
            "Successfully installed scikit-fuzzy-0.4.2\n"
          ],
          "name": "stdout"
        }
      ]
    },
    {
      "cell_type": "code",
      "metadata": {
        "id": "MSnPjdf6JZUt",
        "colab_type": "code",
        "colab": {}
      },
      "source": [
        "import numpy as np\n",
        "import skfuzzy as fuzz"
      ],
      "execution_count": 0,
      "outputs": []
    },
    {
      "cell_type": "code",
      "metadata": {
        "id": "BN1Ax1h6JdSn",
        "colab_type": "code",
        "colab": {}
      },
      "source": [
        "# Create universe of discourse in Python using linspace ()\n",
        "X = np.linspace(start=0, stop=75, num=75, endpoint=True, retstep=False)"
      ],
      "execution_count": 0,
      "outputs": []
    },
    {
      "cell_type": "code",
      "metadata": {
        "id": "t5qiYpJgJyGF",
        "colab_type": "code",
        "colab": {}
      },
      "source": [
        "# Create two fuzzy sets by defining any membership function (trapmf(), gbellmf(),gaussmf(), etc).\n",
        "abc1 = [0, 25, 50]\n",
        "abc2 = [25, 50, 75]\n",
        "young = fuzz.membership.trimf(X, abc1)\n",
        "middle_aged = fuzz.membership.trimf(X, abc2)"
      ],
      "execution_count": 0,
      "outputs": []
    },
    {
      "cell_type": "code",
      "metadata": {
        "id": "TC6J-BSjJ17d",
        "colab_type": "code",
        "colab": {}
      },
      "source": [
        "# Compute the different operations using inbuilt functions.\n",
        "one = np.ones(75)\n",
        "zero = np.zeros((75,))"
      ],
      "execution_count": 0,
      "outputs": []
    },
    {
      "cell_type": "code",
      "metadata": {
        "id": "SU439mb3KuFw",
        "colab_type": "code",
        "colab": {}
      },
      "source": [
        "# 1. Union = max(µA(x), µB(x))\n",
        "union = fuzz.fuzzy_or(X, young, X, middle_aged)[1]"
      ],
      "execution_count": 0,
      "outputs": []
    },
    {
      "cell_type": "code",
      "metadata": {
        "id": "1yx8ApVcKxfS",
        "colab_type": "code",
        "colab": {}
      },
      "source": [
        "# 2. Intersection = min(µA(x), µB(x))\n",
        "intersection = fuzz.fuzzy_and(X, young, X, middle_aged)[1]"
      ],
      "execution_count": 0,
      "outputs": []
    },
    {
      "cell_type": "code",
      "metadata": {
        "id": "Y1NSZhrBK0tj",
        "colab_type": "code",
        "colab": {}
      },
      "source": [
        "# 3. Complement (A) = (1- min(µA(x))\n",
        "complement_a = fuzz.fuzzy_not(young)"
      ],
      "execution_count": 0,
      "outputs": []
    },
    {
      "cell_type": "code",
      "metadata": {
        "id": "1OgMNwvxKxsS",
        "colab_type": "code",
        "colab": {}
      },
      "source": [
        "# 4. Difference (A/B) = min(µA(x),(1- µB(x)))\n",
        "difference = fuzz.fuzzy_and(X, young, X, fuzz.fuzzy_not(middle_aged)[1])[1]"
      ],
      "execution_count": 0,
      "outputs": []
    },
    {
      "cell_type": "code",
      "metadata": {
        "id": "eU1Ru7pQKx2f",
        "colab_type": "code",
        "colab": {}
      },
      "source": [
        "# 5. Algebraic Sum = [µA(x) + µB(x) – (µA(x) * µB(x))]\n",
        "alg_sum = young + middle_aged - (young * middle_aged)"
      ],
      "execution_count": 0,
      "outputs": []
    },
    {
      "cell_type": "code",
      "metadata": {
        "id": "Czc7KngNKx-_",
        "colab_type": "code",
        "colab": {}
      },
      "source": [
        "# 6. Algebraic Product = (µA(x) * µB(x))\n",
        "alg_product = young * middle_aged"
      ],
      "execution_count": 0,
      "outputs": []
    },
    {
      "cell_type": "code",
      "metadata": {
        "id": "xldsjXgtKyHK",
        "colab_type": "code",
        "colab": {}
      },
      "source": [
        "# 7. Bounded Sum = min[1,(µA(x), µB(x))]\n",
        "bdd_sum = fuzz.fuzzy_and(X, one, X, young + middle_aged)[1]"
      ],
      "execution_count": 0,
      "outputs": []
    },
    {
      "cell_type": "code",
      "metadata": {
        "id": "hl1THVnXKyOv",
        "colab_type": "code",
        "colab": {}
      },
      "source": [
        "# 8. Bounded difference = min[0,(µA(x), µB(x))]\n",
        "bdd_difference = fuzz.fuzzy_or(X, zero, X, young - middle_aged)[1]"
      ],
      "execution_count": 0,
      "outputs": []
    },
    {
      "cell_type": "code",
      "metadata": {
        "id": "7ii-TP4xKyV4",
        "colab_type": "code",
        "colab": {}
      },
      "source": [
        "# max-min composition\n",
        "# max-product composition\n",
        "# Plot each set A, set B and each operation result using plot() and subplot().\n",
        "import matplotlib.pyplot as plt"
      ],
      "execution_count": 0,
      "outputs": []
    },
    {
      "cell_type": "code",
      "metadata": {
        "id": "mo3XChzsKycb",
        "colab_type": "code",
        "colab": {
          "base_uri": "https://localhost:8080/",
          "height": 111
        },
        "outputId": "19256fe9-ab34-448f-bec7-d1d6ebe4ea13"
      },
      "source": [
        "plt.figure()\n",
        "plt.subplot(4, 3, 1)\n",
        "plt.plot(X, young)\n",
        "plt.title(\"Young\")\n",
        "plt.grid(True)"
      ],
      "execution_count": 17,
      "outputs": [
        {
          "output_type": "display_data",
          "data": {
            "image/png": "[encoded data removed]",
            "text/plain": [
              "<Figure size 432x288 with 1 Axes>"
            ]
          },
          "metadata": {
            "tags": [],
            "needs_background": "light"
          }
        }
      ]
    },
    {
      "cell_type": "code",
      "metadata": {
        "id": "7uSFlyAKKykD",
        "colab_type": "code",
        "colab": {
          "base_uri": "https://localhost:8080/",
          "height": 111
        },
        "outputId": "730bc1b3-d7d9-4891-9499-71efd398a1fc"
      },
      "source": [
        "plt.subplot(4, 3, 2)\n",
        "plt.plot(X, middle_aged)\n",
        "plt.title(\"Middle aged\")\n",
        "plt.grid(True)"
      ],
      "execution_count": 18,
      "outputs": [
        {
          "output_type": "display_data",
          "data": {
            "image/png": "[encoded data removed]",
            "text/plain": [
              "<Figure size 432x288 with 1 Axes>"
            ]
          },
          "metadata": {
            "tags": [],
            "needs_background": "light"
          }
        }
      ]
    },
    {
      "cell_type": "code",
      "metadata": {
        "id": "4bH9JIy5KyrY",
        "colab_type": "code",
        "colab": {
          "base_uri": "https://localhost:8080/",
          "height": 111
        },
        "outputId": "922424b1-71b0-4822-b0f4-7fc6272a11fa"
      },
      "source": [
        "plt.subplot(4, 3, 3)\n",
        "plt.plot(X, union)\n",
        "plt.title(\"union\")\n",
        "plt.grid(True)"
      ],
      "execution_count": 19,
      "outputs": [
        {
          "output_type": "display_data",
          "data": {
            "image/png": "[encoded data removed]",
            "text/plain": [
              "<Figure size 432x288 with 1 Axes>"
            ]
          },
          "metadata": {
            "tags": [],
            "needs_background": "light"
          }
        }
      ]
    },
    {
      "cell_type": "code",
      "metadata": {
        "id": "f7nVOHjEKyxy",
        "colab_type": "code",
        "colab": {
          "base_uri": "https://localhost:8080/",
          "height": 111
        },
        "outputId": "0023cb61-db71-4c43-ec6f-0d57d8e58ea9"
      },
      "source": [
        "plt.subplot(4, 3, 4)\n",
        "plt.plot(X, intersection)\n",
        "plt.title(\"intersection\")\n",
        "plt.grid(True)"
      ],
      "execution_count": 20,
      "outputs": [
        {
          "output_type": "display_data",
          "data": {
            "image/png": "[encoded data removed]",
            "text/plain": [
              "<Figure size 432x288 with 1 Axes>"
            ]
          },
          "metadata": {
            "tags": [],
            "needs_background": "light"
          }
        }
      ]
    },
    {
      "cell_type": "code",
      "metadata": {
        "id": "hjp9gIkEKy5J",
        "colab_type": "code",
        "colab": {
          "base_uri": "https://localhost:8080/",
          "height": 111
        },
        "outputId": "06c6ce2c-0e7b-4751-c8d7-bb5e4d25f262"
      },
      "source": [
        "plt.subplot(4, 3, 5)\n",
        "plt.plot(X, complement_a)\n",
        "plt.title(\"complement_a\")\n",
        "plt.grid(True)"
      ],
      "execution_count": 21,
      "outputs": [
        {
          "output_type": "display_data",
          "data": {
            "image/png": "[encoded data removed]",
            "text/plain": [
              "<Figure size 432x288 with 1 Axes>"
            ]
          },
          "metadata": {
            "tags": [],
            "needs_background": "light"
          }
        }
      ]
    },
    {
      "cell_type": "code",
      "metadata": {
        "id": "TXfiY9GZKzAA",
        "colab_type": "code",
        "colab": {
          "base_uri": "https://localhost:8080/",
          "height": 111
        },
        "outputId": "ea6ce860-21ba-49fc-d3a0-995b10d5e847"
      },
      "source": [
        "plt.subplot(4, 3, 6)\n",
        "plt.plot(X, difference)\n",
        "plt.title(\"difference a/b\")\n",
        "plt.grid(True)"
      ],
      "execution_count": 22,
      "outputs": [
        {
          "output_type": "display_data",
          "data": {
            "image/png": "[encoded data removed]",
            "text/plain": [
              "<Figure size 432x288 with 1 Axes>"
            ]
          },
          "metadata": {
            "tags": [],
            "needs_background": "light"
          }
        }
      ]
    },
    {
      "cell_type": "code",
      "metadata": {
        "id": "mTSO_2XBKzGb",
        "colab_type": "code",
        "colab": {
          "base_uri": "https://localhost:8080/",
          "height": 111
        },
        "outputId": "c7d3040c-e210-4991-8478-4e77836d01e2"
      },
      "source": [
        "plt.subplot(4, 3, 7)\n",
        "plt.plot(X, alg_sum)\n",
        "plt.title(\"alg_sum\")\n",
        "plt.grid(True)"
      ],
      "execution_count": 23,
      "outputs": [
        {
          "output_type": "display_data",
          "data": {
            "image/png": "[encoded data removed]",
            "text/plain": [
              "<Figure size 432x288 with 1 Axes>"
            ]
          },
          "metadata": {
            "tags": [],
            "needs_background": "light"
          }
        }
      ]
    },
    {
      "cell_type": "code",
      "metadata": {
        "id": "n-HHkfRzKzN5",
        "colab_type": "code",
        "colab": {
          "base_uri": "https://localhost:8080/",
          "height": 111
        },
        "outputId": "01c6ac44-114b-49e2-c99e-20b558ffe843"
      },
      "source": [
        "plt.subplot(4, 3, 8)\n",
        "plt.plot(X, alg_product)\n",
        "plt.title(\"alg_product\")\n",
        "plt.grid(True)"
      ],
      "execution_count": 24,
      "outputs": [
        {
          "output_type": "display_data",
          "data": {
            "image/png": "[encoded data removed]",
            "text/plain": [
              "<Figure size 432x288 with 1 Axes>"
            ]
          },
          "metadata": {
            "tags": [],
            "needs_background": "light"
          }
        }
      ]
    },
    {
      "cell_type": "code",
      "metadata": {
        "id": "LBVqeddaKzU6",
        "colab_type": "code",
        "colab": {
          "base_uri": "https://localhost:8080/",
          "height": 111
        },
        "outputId": "02523fce-8362-45d7-972d-5a2513810290"
      },
      "source": [
        "plt.subplot(4, 3, 9)\n",
        "plt.plot(X, bdd_sum)\n",
        "plt.title(\"bdd_sum\")\n",
        "plt.grid(True)"
      ],
      "execution_count": 25,
      "outputs": [
        {
          "output_type": "display_data",
          "data": {
            "image/png": "[encoded data removed]",
            "text/plain": [
              "<Figure size 432x288 with 1 Axes>"
            ]
          },
          "metadata": {
            "tags": [],
            "needs_background": "light"
          }
        }
      ]
    },
    {
      "cell_type": "code",
      "metadata": {
        "id": "2higg-R5KzcB",
        "colab_type": "code",
        "colab": {
          "base_uri": "https://localhost:8080/",
          "height": 111
        },
        "outputId": "58a909a4-2158-4068-cfe7-2571c04062ff"
      },
      "source": [
        "plt.subplot(4, 3, 10)\n",
        "plt.plot(X, bdd_difference)\n",
        "plt.title(\"bdd_difference\")\n",
        "plt.grid(True)"
      ],
      "execution_count": 26,
      "outputs": [
        {
          "output_type": "display_data",
          "data": {
            "image/png": "[encoded data removed]",
            "text/plain": [
              "<Figure size 432x288 with 1 Axes>"
            ]
          },
          "metadata": {
            "tags": [],
            "needs_background": "light"
          }
        }
      ]
    },
    {
      "cell_type": "code",
      "metadata": {
        "id": "C8PVnWkeKzij",
        "colab_type": "code",
        "colab": {
          "base_uri": "https://localhost:8080/",
          "height": 34
        },
        "outputId": "f4db0cf6-79a8-45fb-9e8f-87129d3d5e52"
      },
      "source": [
        "plt.subplots_adjust(hspace=0.5)\n",
        "plt.show()"
      ],
      "execution_count": 28,
      "outputs": [
        {
          "output_type": "display_data",
          "data": {
            "text/plain": [
              "<Figure size 432x288 with 0 Axes>"
            ]
          },
          "metadata": {
            "tags": []
          }
        }
      ]
    },
    {
      "cell_type": "code",
      "metadata": {
        "id": "QzVFBHEDM1Af",
        "colab_type": "code",
        "colab": {}
      },
      "source": [
        ""
      ],
      "execution_count": 0,
      "outputs": []
    }
  ]
}