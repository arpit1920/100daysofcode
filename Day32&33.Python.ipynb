{
 "cells": [
  {
   "cell_type": "code",
   "execution_count": 8,
   "metadata": {},
   "outputs": [
    {
     "name": "stdout",
     "output_type": "stream",
     "text": [
      "3 2\n",
      "3 4\n",
      "3 6\n",
      "3 8\n",
      "3 10\n",
      "3 12\n",
      "3 14\n",
      "3 16\n",
      "5 2\n",
      "5 4\n",
      "5 6\n",
      "5 8\n",
      "5 10\n",
      "5 12\n",
      "5 14\n",
      "5 16\n",
      "7 2\n",
      "7 4\n",
      "7 6\n",
      "7 8\n",
      "7 10\n",
      "7 12\n",
      "7 14\n",
      "7 16\n",
      "9 2\n",
      "9 4\n",
      "9 6\n",
      "9 8\n",
      "9 10\n",
      "9 12\n",
      "9 14\n",
      "9 16\n",
      "11 2\n",
      "11 4\n",
      "11 6\n",
      "11 8\n",
      "11 10\n",
      "11 12\n",
      "11 14\n",
      "11 16\n",
      "13 2\n",
      "13 4\n",
      "13 6\n",
      "13 8\n",
      "13 10\n",
      "13 12\n",
      "13 14\n",
      "13 16\n",
      "15 2\n",
      "15 4\n",
      "15 6\n",
      "15 8\n",
      "15 10\n",
      "15 12\n",
      "15 14\n",
      "15 16\n",
      "17 2\n",
      "17 4\n",
      "17 6\n",
      "17 8\n",
      "17 10\n",
      "17 12\n",
      "17 14\n",
      "17 16\n"
     ]
    }
   ],
   "source": [
    "# Day 32&33 Task 5\n",
    "x = [3,5,7,9,11,13,15,17,19]\n",
    "y = [2,4,6,8,10,12,14,16]\n",
    "for a in range(3,19,2):\n",
    "    for b in range(2,18,2):\n",
    "     print(a,b)"
   ]
  },
  {
   "cell_type": "code",
   "execution_count": null,
   "metadata": {},
   "outputs": [],
   "source": []
  }
 ],
 "metadata": {
  "kernelspec": {
   "display_name": "Python 3",
   "language": "python",
   "name": "python3"
  },
  "language_info": {
   "codemirror_mode": {
    "name": "ipython",
    "version": 3
   },
   "file_extension": ".py",
   "mimetype": "text/x-python",
   "name": "python",
   "nbconvert_exporter": "python",
   "pygments_lexer": "ipython3",
   "version": "3.7.3"
  }
 },
 "nbformat": 4,
 "nbformat_minor": 2
}
