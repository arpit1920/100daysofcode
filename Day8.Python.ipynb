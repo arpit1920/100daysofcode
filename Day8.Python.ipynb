{
 "cells": [
  {
   "cell_type": "code",
   "execution_count": 8,
   "metadata": {},
   "outputs": [
    {
     "name": "stdout",
     "output_type": "stream",
     "text": [
      "Good morning\n",
      "16\n",
      " good morning   \n",
      " GOOD MORNING   \n",
      " Good Morning   \n"
     ]
    }
   ],
   "source": [
    "# Day 8 Python Strings 2\n",
    "\n",
    "x = \" Good morning   \"\n",
    "\n",
    "print(x.strip()) # returns \"Good morning\"\n",
    "print(len(x))\n",
    "print(x.lower())\n",
    "print(x.upper())\n",
    "print(x.replace(\"m\", \"M\"))"
   ]
  },
  {
   "cell_type": "code",
   "execution_count": null,
   "metadata": {},
   "outputs": [],
   "source": []
  }
 ],
 "metadata": {
  "kernelspec": {
   "display_name": "Python 3",
   "language": "python",
   "name": "python3"
  },
  "language_info": {
   "codemirror_mode": {
    "name": "ipython",
    "version": 3
   },
   "file_extension": ".py",
   "mimetype": "text/x-python",
   "name": "python",
   "nbconvert_exporter": "python",
   "pygments_lexer": "ipython3",
   "version": "3.7.3"
  }
 },
 "nbformat": 4,
 "nbformat_minor": 2
}
