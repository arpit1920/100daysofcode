{
 "cells": [
  {
   "cell_type": "code",
   "execution_count": 3,
   "metadata": {},
   "outputs": [
    {
     "name": "stdout",
     "output_type": "stream",
     "text": [
      "مساء الخير\n"
     ]
    }
   ],
   "source": [
    "# Day 7 Python Srtrings\n",
    "# \"مرحبًا\" is the same as 'مرحبًا'\n",
    "# Assign String to a Variable:\n",
    "x = \"مساء الخير\"\n",
    "print(x)"
   ]
  },
  {
   "cell_type": "code",
   "execution_count": 4,
   "metadata": {},
   "outputs": [
    {
     "name": "stdout",
     "output_type": "stream",
     "text": [
      "Python is a popular programming language and It was created by Guido van Rossum and released in\n",
      "1991.\n"
     ]
    }
   ],
   "source": [
    "x = \"\"\"Python is a popular programming language and It was created by Guido van Rossum and released in\n",
    "1991.\"\"\"\n",
    "print(x)"
   ]
  },
  {
   "cell_type": "code",
   "execution_count": 8,
   "metadata": {},
   "outputs": [
    {
     "name": "stdout",
     "output_type": "stream",
     "text": [
      "n\n",
      "ght\n"
     ]
    }
   ],
   "source": [
    "# Remember that the first character has the position 0!\n",
    "x = 'Good night!'\n",
    "print(x[5])\n",
    "print(x[7:10])"
   ]
  },
  {
   "cell_type": "code",
   "execution_count": null,
   "metadata": {},
   "outputs": [],
   "source": []
  }
 ],
 "metadata": {
  "kernelspec": {
   "display_name": "Python 3",
   "language": "python",
   "name": "python3"
  },
  "language_info": {
   "codemirror_mode": {
    "name": "ipython",
    "version": 3
   },
   "file_extension": ".py",
   "mimetype": "text/x-python",
   "name": "python",
   "nbconvert_exporter": "python",
   "pygments_lexer": "ipython3",
   "version": "3.7.3"
  }
 },
 "nbformat": 4,
 "nbformat_minor": 2
}
