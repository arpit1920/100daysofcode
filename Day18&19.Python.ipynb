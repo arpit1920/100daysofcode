{
 "cells": [
  {
   "cell_type": "code",
   "execution_count": 10,
   "metadata": {},
   "outputs": [
    {
     "name": "stdout",
     "output_type": "stream",
     "text": [
      "['Programming', 'Reading', 'Writing', 'Dancing']\n",
      "Programming\n",
      "Reading\n",
      "Writing\n",
      "Dancing\n",
      "4\n",
      "['Programming', 'Reading', 'Writing', 'Drawing', 'Dancing']\n",
      "[]\n",
      "['Programming', 'Reading', 'Writing', 'Dancing']\n"
     ]
    }
   ],
   "source": [
    "# Day 18 & 19 Task 3\n",
    "# Part one:\n",
    "Hobbies = ['Programming', 'Reading', 'Writing', 'Dancing']\n",
    "print(Hobbies)\n",
    "for a in Hobbies:\n",
    "    print(a)\n",
    "print(len(Hobbies))\n",
    "Hobbies.insert(3, 'Drawing')\n",
    "print(Hobbies)\n",
    "Hobbies.clear()\n",
    "print(Hobbies)\n",
    "Hobbies = ['Programming', 'Reading', 'Writing', 'Dancing']\n",
    "Myhobbies = list(Hobbies)\n",
    "print(Myhobbies)"
   ]
  },
  {
   "cell_type": "code",
   "execution_count": 15,
   "metadata": {},
   "outputs": [
    {
     "name": "stdout",
     "output_type": "stream",
     "text": [
      "Yes, Python is in the tuple!\n"
     ]
    }
   ],
   "source": [
    "# Part two: \n",
    "tuple1 = ('Java', 'Python', 'Swift')\n",
    "if 'Python' in tuple1:\n",
    "    print('Yes, Python\" is in the tuple!')"
   ]
  },
  {
   "cell_type": "code",
   "execution_count": null,
   "metadata": {},
   "outputs": [],
   "source": []
  }
 ],
 "metadata": {
  "kernelspec": {
   "display_name": "Python 3",
   "language": "python",
   "name": "python3"
  },
  "language_info": {
   "codemirror_mode": {
    "name": "ipython",
    "version": 3
   },
   "file_extension": ".py",
   "mimetype": "text/x-python",
   "name": "python",
   "nbconvert_exporter": "python",
   "pygments_lexer": "ipython3",
   "version": "3.7.3"
  }
 },
 "nbformat": 4,
 "nbformat_minor": 2
}
