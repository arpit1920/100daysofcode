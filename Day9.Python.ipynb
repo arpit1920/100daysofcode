{
 "cells": [
  {
   "cell_type": "code",
   "execution_count": 2,
   "metadata": {},
   "outputs": [
    {
     "name": "stdout",
     "output_type": "stream",
     "text": [
      "My name is Hateef, and I am 22 Years old\n"
     ]
    }
   ],
   "source": [
    "# Day 9 String Format\n",
    "#  In the Python Variables chapter, we cannot combine strings and\n",
    "# numbers like this\n",
    "# Use the format() method to insert numbers into strings\n",
    "age = 22\n",
    "name = \"My name is Hateef, and I am {} Years old\"\n",
    "print(name.format(age))"
   ]
  },
  {
   "cell_type": "code",
   "execution_count": 5,
   "metadata": {},
   "outputs": [
    {
     "name": "stdout",
     "output_type": "stream",
     "text": [
      "I want  3 cups and 4 Spoons\n"
     ]
    }
   ],
   "source": [
    "x = 3\n",
    "y = 4\n",
    "z = \"I want  {} cups and {} Spoons\"\n",
    "print(z.format(x,y))\n",
    "\n",
    "# You can use index numbers {0} to be sure the arguments are placed in the\n",
    "# correct placeholders!"
   ]
  },
  {
   "cell_type": "code",
   "execution_count": null,
   "metadata": {},
   "outputs": [],
   "source": []
  }
 ],
 "metadata": {
  "kernelspec": {
   "display_name": "Python 3",
   "language": "python",
   "name": "python3"
  },
  "language_info": {
   "codemirror_mode": {
    "name": "ipython",
    "version": 3
   },
   "file_extension": ".py",
   "mimetype": "text/x-python",
   "name": "python",
   "nbconvert_exporter": "python",
   "pygments_lexer": "ipython3",
   "version": "3.7.3"
  }
 },
 "nbformat": 4,
 "nbformat_minor": 2
}
