{
 "cells": [
  {
   "cell_type": "code",
   "execution_count": 6,
   "metadata": {},
   "outputs": [
    {
     "name": "stdout",
     "output_type": "stream",
     "text": [
      "4\n",
      "{'java', 'SQL', 'python'}\n",
      "java\n",
      "{'SQL', 'python'}\n",
      "set()\n",
      "{'C', 'java', 'SQL', 'python'}\n"
     ]
    }
   ],
   "source": [
    "# Day 21 Python Sets 2\n",
    "# To determine how many items a set has, use the len() method\n",
    "Firstset = {'python','java','SQL','C'}\n",
    "print(len(Firstset))\n",
    "# To remove an item in a set, use the remove(), or the discard() method\n",
    "Firstset.remove('C')\n",
    "print(Firstset)\n",
    "a = Firstset.pop()\n",
    "print(a)\n",
    "print(Firstset)\n",
    "Firstset.clear()\n",
    "print(Firstset)\n",
    "# The del keyword will delete the set completely\n",
    "# Using the set() constructor to make a set:\n",
    "Secset = set(('python','java','SQL','C'))\n",
    "print(Secset)"
   ]
  },
  {
   "cell_type": "code",
   "execution_count": null,
   "metadata": {},
   "outputs": [],
   "source": []
  }
 ],
 "metadata": {
  "kernelspec": {
   "display_name": "Python 3",
   "language": "python",
   "name": "python3"
  },
  "language_info": {
   "codemirror_mode": {
    "name": "ipython",
    "version": 3
   },
   "file_extension": ".py",
   "mimetype": "text/x-python",
   "name": "python",
   "nbconvert_exporter": "python",
   "pygments_lexer": "ipython3",
   "version": "3.7.3"
  }
 },
 "nbformat": 4,
 "nbformat_minor": 2
}
