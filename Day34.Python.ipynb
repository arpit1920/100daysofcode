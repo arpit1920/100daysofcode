{
 "cells": [
  {
   "cell_type": "code",
   "execution_count": 10,
   "metadata": {},
   "outputs": [
    {
     "name": "stdout",
     "output_type": "stream",
     "text": [
      "Blue\n",
      "Black \n",
      "Pink \n"
     ]
    }
   ],
   "source": [
    "# Python Functions 2\n",
    "def my_fun(a):\n",
    "    for x in a:\n",
    "        print(x)\n",
    "color = ['Blue', 'Black ', 'Pink ']\n",
    "my_fun(color)"
   ]
  },
  {
   "cell_type": "code",
   "execution_count": 13,
   "metadata": {},
   "outputs": [
    {
     "name": "stdout",
     "output_type": "stream",
     "text": [
      "8\n",
      "6\n",
      "5\n"
     ]
    }
   ],
   "source": [
    "def my_fun(a):\n",
    "    return 4 + a\n",
    "print(my_fun(4))\n",
    "print(my_fun(2))\n",
    "print(my_fun(1))"
   ]
  },
  {
   "cell_type": "code",
   "execution_count": 20,
   "metadata": {},
   "outputs": [
    {
     "name": "stdout",
     "output_type": "stream",
     "text": [
      "The youngest child is Amal\n"
     ]
    }
   ],
   "source": [
    "def my_fun(*kids):\n",
    "    print(\"The youngest child is\" + ' '+ kids[1])\n",
    "    \n",
    "my_fun('Nora', 'Amal','Asma')"
   ]
  },
  {
   "cell_type": "code",
   "execution_count": 27,
   "metadata": {},
   "outputs": [
    {
     "name": "stdout",
     "output_type": "stream",
     "text": [
      "\n",
      "\n",
      "Recursion Example Results\n",
      "1\n",
      "3\n",
      "6\n",
      "10\n",
      "15\n",
      "21\n"
     ]
    },
    {
     "data": {
      "text/plain": [
       "21"
      ]
     },
     "execution_count": 27,
     "metadata": {},
     "output_type": "execute_result"
    }
   ],
   "source": [
    "def tri_rec(K):\n",
    "    if (K>0):\n",
    "        result = K+tri_rec(K-1)\n",
    "        print(result)\n",
    "    else:\n",
    "      result=0\n",
    "    return result\n",
    "print(\"\\n\\nRecursion Example Results\")\n",
    "tri_rec(6)"
   ]
  },
  {
   "cell_type": "code",
   "execution_count": null,
   "metadata": {},
   "outputs": [],
   "source": []
  }
 ],
 "metadata": {
  "kernelspec": {
   "display_name": "Python 3",
   "language": "python",
   "name": "python3"
  },
  "language_info": {
   "codemirror_mode": {
    "name": "ipython",
    "version": 3
   },
   "file_extension": ".py",
   "mimetype": "text/x-python",
   "name": "python",
   "nbconvert_exporter": "python",
   "pygments_lexer": "ipython3",
   "version": "3.7.3"
  }
 },
 "nbformat": 4,
 "nbformat_minor": 2
}
