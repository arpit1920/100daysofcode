{
 "cells": [
  {
   "cell_type": "code",
   "execution_count": 3,
   "metadata": {},
   "outputs": [
    {
     "name": "stdout",
     "output_type": "stream",
     "text": [
      "Hello my first function!\n"
     ]
    }
   ],
   "source": [
    "# Day 31 Python Functions\n",
    "def my_function():\n",
    "    print(\"Hello my first function!\")\n",
    "my_function()"
   ]
  },
  {
   "cell_type": "code",
   "execution_count": 5,
   "metadata": {},
   "outputs": [
    {
     "name": "stdout",
     "output_type": "stream",
     "text": [
      "Sara Mohammed\n",
      "Nora Mohammed\n",
      "Maha Mohammed\n"
     ]
    }
   ],
   "source": [
    "def my_fun(fname):\n",
    "    print(fname +' '+ 'Mohammed')\n",
    "my_fun(\"Sara\")\n",
    "my_fun(\"Nora\")\n",
    "my_fun(\"Maha\")"
   ]
  },
  {
   "cell_type": "code",
   "execution_count": null,
   "metadata": {},
   "outputs": [],
   "source": [
    "def my_fun(Country = \"Saudi Arabia\"):\n",
    "    print(\"I am from\" + Country)\n",
    "my_fun(\"Norway\")\n",
    "my_fun(\"India\")\n",
    "my_fun()\n"
   ]
  }
 ],
 "metadata": {
  "kernelspec": {
   "display_name": "Python 3",
   "language": "python",
   "name": "python3"
  },
  "language_info": {
   "codemirror_mode": {
    "name": "ipython",
    "version": 3
   },
   "file_extension": ".py",
   "mimetype": "text/x-python",
   "name": "python",
   "nbconvert_exporter": "python",
   "pygments_lexer": "ipython3",
   "version": "3.7.3"
  }
 },
 "nbformat": 4,
 "nbformat_minor": 2
}
