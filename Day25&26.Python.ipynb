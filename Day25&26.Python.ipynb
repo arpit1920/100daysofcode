{
 "cells": [
  {
   "cell_type": "code",
   "execution_count": 6,
   "metadata": {},
   "outputs": [
    {
     "name": "stdout",
     "output_type": "stream",
     "text": [
      "{1, 3, 5, 7, 8}\n",
      "{1, 3, 4, 5, 7, 8, 12}\n",
      "{1, 3, 4, 5, 7, 12}\n",
      "set()\n"
     ]
    }
   ],
   "source": [
    "# Day 25&26 Task 4\n",
    "# part one\n",
    "Set = {1,3,5,7,8}\n",
    "print(Set)\n",
    "Set.update([4,8,12])\n",
    "print(Set)\n",
    "Set.remove(8)\n",
    "print(Set)\n",
    "Set.clear()\n",
    "print(Set)"
   ]
  },
  {
   "cell_type": "code",
   "execution_count": 8,
   "metadata": {},
   "outputs": [
    {
     "name": "stdout",
     "output_type": "stream",
     "text": [
      "{'name': 'pigeon', 'type': 'bird', 'skin cover': 'feathers'}\n",
      "bird\n"
     ]
    }
   ],
   "source": [
    "# part two \n",
    "Dict = {\n",
    "    \"name\" : \"pigeon\",\n",
    "    \"type\" : \"bird\",\n",
    "    \"skin cover\" : \"feathers\"\n",
    "}\n",
    "print(Dict)\n",
    "a = Dict.get(\"type\")\n",
    "print(a)\n",
    "Dict[\"skin cover\"] = \"F\"\n",
    "print(Di)"
   ]
  },
  {
   "cell_type": "code",
   "execution_count": null,
   "metadata": {},
   "outputs": [],
   "source": []
  }
 ],
 "metadata": {
  "kernelspec": {
   "display_name": "Python 3",
   "language": "python",
   "name": "python3"
  },
  "language_info": {
   "codemirror_mode": {
    "name": "ipython",
    "version": 3
   },
   "file_extension": ".py",
   "mimetype": "text/x-python",
   "name": "python",
   "nbconvert_exporter": "python",
   "pygments_lexer": "ipython3",
   "version": "3.7.3"
  }
 },
 "nbformat": 4,
 "nbformat_minor": 2
}
