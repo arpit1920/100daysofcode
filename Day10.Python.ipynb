{
 "cells": [
  {
   "cell_type": "code",
   "execution_count": 6,
   "metadata": {},
   "outputs": [
    {
     "name": "stdout",
     "output_type": "stream",
     "text": [
      "50\n",
      "15\n",
      "5\n",
      "0\n",
      "2.0\n"
     ]
    }
   ],
   "source": [
    "# Day 10 Python Operators\n",
    "# Python Arithmetic Operators:\n",
    "x = 10\n",
    "y = 5\n",
    "print(x*y)\n",
    "print(x+y)\n",
    "print(x-y)\n",
    "print(x%y)\n",
    "print(x/y)"
   ]
  },
  {
   "cell_type": "code",
   "execution_count": 8,
   "metadata": {},
   "outputs": [
    {
     "name": "stdout",
     "output_type": "stream",
     "text": [
      "0.5\n",
      "9\n"
     ]
    }
   ],
   "source": [
    "# Python Assignment Operators:\n",
    "x = 4\n",
    "x /= 8\n",
    "print(x)\n",
    "y = 6\n",
    "y += 3\n",
    "print(y)"
   ]
  },
  {
   "cell_type": "code",
   "execution_count": 12,
   "metadata": {},
   "outputs": [
    {
     "name": "stdout",
     "output_type": "stream",
     "text": [
      "False\n",
      "True\n",
      "True\n"
     ]
    }
   ],
   "source": [
    "# Python Comparison Operators:\n",
    "x = 15\n",
    "y = 5\n",
    "print(x<y)\n",
    "print(x>y)\n",
    "print(x!=y)"
   ]
  },
  {
   "cell_type": "code",
   "execution_count": null,
   "metadata": {},
   "outputs": [],
   "source": []
  }
 ],
 "metadata": {
  "kernelspec": {
   "display_name": "Python 3",
   "language": "python",
   "name": "python3"
  },
  "language_info": {
   "codemirror_mode": {
    "name": "ipython",
    "version": 3
   },
   "file_extension": ".py",
   "mimetype": "text/x-python",
   "name": "python",
   "nbconvert_exporter": "python",
   "pygments_lexer": "ipython3",
   "version": "3.7.3"
  }
 },
 "nbformat": 4,
 "nbformat_minor": 2
}
