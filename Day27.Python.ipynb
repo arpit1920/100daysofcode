{
 "cells": [
  {
   "cell_type": "code",
   "execution_count": 6,
   "metadata": {},
   "outputs": [
    {
     "name": "stdout",
     "output_type": "stream",
     "text": [
      "x is greater than y\n"
     ]
    }
   ],
   "source": [
    "# Day 27 Conditional Statements\n",
    "x = 5\n",
    "y = 2\n",
    "if x > y:\n",
    "    print('x is greater than y')"
   ]
  },
  {
   "cell_type": "code",
   "execution_count": 9,
   "metadata": {},
   "outputs": [
    {
     "name": "stdout",
     "output_type": "stream",
     "text": [
      "x & y are equal\n"
     ]
    }
   ],
   "source": [
    "x = 8\n",
    "y = 8\n",
    "if x > y:\n",
    "    print('x is greater than y')\n",
    "elif x == y:\n",
    "        print('x & y are equal')"
   ]
  },
  {
   "cell_type": "code",
   "execution_count": 12,
   "metadata": {},
   "outputs": [
    {
     "name": "stdout",
     "output_type": "stream",
     "text": [
      "y is greater than x\n"
     ]
    }
   ],
   "source": [
    "x = 8\n",
    "y = 10\n",
    "if x > y:\n",
    "    print('x is greater than y')\n",
    "elif x == y:\n",
    "        print('x & y are equal')\n",
    "else:\n",
    "        print('y is greater than x')"
   ]
  },
  {
   "cell_type": "code",
   "execution_count": 16,
   "metadata": {},
   "outputs": [
    {
     "name": "stdout",
     "output_type": "stream",
     "text": [
      "Y\n"
     ]
    }
   ],
   "source": [
    "x = 5 \n",
    "y = 8\n",
    "print('X') if x > y else print('Y')"
   ]
  },
  {
   "cell_type": "code",
   "execution_count": 18,
   "metadata": {},
   "outputs": [
    {
     "name": "stdout",
     "output_type": "stream",
     "text": [
      "all conditions are true\n"
     ]
    }
   ],
   "source": [
    "a = 5\n",
    "b = 3\n",
    "c = 1\n",
    "if a > b and c < b:\n",
    "    print(\"all conditions are true\")"
   ]
  },
  {
   "cell_type": "code",
   "execution_count": 19,
   "metadata": {},
   "outputs": [
    {
     "name": "stdout",
     "output_type": "stream",
     "text": [
      "Above four\n",
      "also above 6\n"
     ]
    }
   ],
   "source": [
    "x = 8\n",
    "if x > 4:\n",
    "    print('Above four')\n",
    "if x > 6:\n",
    "    print('also above 6')\n",
    "else:\n",
    "    print('but not above 6')"
   ]
  },
  {
   "cell_type": "code",
   "execution_count": null,
   "metadata": {},
   "outputs": [],
   "source": []
  }
 ],
 "metadata": {
  "kernelspec": {
   "display_name": "Python 3",
   "language": "python",
   "name": "python3"
  },
  "language_info": {
   "codemirror_mode": {
    "name": "ipython",
    "version": 3
   },
   "file_extension": ".py",
   "mimetype": "text/x-python",
   "name": "python",
   "nbconvert_exporter": "python",
   "pygments_lexer": "ipython3",
   "version": "3.7.3"
  }
 },
 "nbformat": 4,
 "nbformat_minor": 2
}
