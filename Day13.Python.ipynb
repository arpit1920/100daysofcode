{
 "cells": [
  {
   "cell_type": "code",
   "execution_count": 8,
   "metadata": {},
   "outputs": [
    {
     "name": "stdout",
     "output_type": "stream",
     "text": [
      "[2.5, 33.7, 1.9]\n"
     ]
    }
   ],
   "source": [
    "# Day 13 Python Lists\n",
    "# In Python lists are written with square brackets []\n",
    "list = [2.5,33.7,1.9]\n",
    "print(list)"
   ]
  },
  {
   "cell_type": "code",
   "execution_count": 12,
   "metadata": {},
   "outputs": [
    {
     "name": "stdout",
     "output_type": "stream",
     "text": [
      "6\n",
      "[44, 6, 9, 22]\n",
      "[44, 6, 9, 22]\n",
      "[44, 6, 9, 22]\n",
      "[44, 6, 9, 22]\n"
     ]
    }
   ],
   "source": [
    "# You access the list items by referring to the index number\n",
    "# Print the second item of the list:\n",
    "x = [44,6,9,22]\n",
    "print(x[1])\n",
    "# You can loop through the list items by using a for loop\n",
    "for y in x:\n",
    "    print(x)"
   ]
  },
  {
   "cell_type": "code",
   "execution_count": 13,
   "metadata": {},
   "outputs": [
    {
     "name": "stdout",
     "output_type": "stream",
     "text": [
      "[44, 11, 9, 22]\n"
     ]
    }
   ],
   "source": [
    "# To change the value of a specific item, refer to the index number\n",
    "# Change the second item\n",
    "x = [44,6,9,22]\n",
    "x[1]= 11\n",
    "print(x)\n"
   ]
  },
  {
   "cell_type": "code",
   "execution_count": 14,
   "metadata": {},
   "outputs": [],
   "source": [
    "# The del keyword removes the specified index\n",
    "x = [44,6,9,22]\n",
    "del x"
   ]
  },
  {
   "cell_type": "code",
   "execution_count": null,
   "metadata": {},
   "outputs": [],
   "source": []
  }
 ],
 "metadata": {
  "kernelspec": {
   "display_name": "Python 3",
   "language": "python",
   "name": "python3"
  },
  "language_info": {
   "codemirror_mode": {
    "name": "ipython",
    "version": 3
   },
   "file_extension": ".py",
   "mimetype": "text/x-python",
   "name": "python",
   "nbconvert_exporter": "python",
   "pygments_lexer": "ipython3",
   "version": "3.7.3"
  }
 },
 "nbformat": 4,
 "nbformat_minor": 2
}
