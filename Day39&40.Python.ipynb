{
 "cells": [
  {
   "cell_type": "code",
   "execution_count": 8,
   "metadata": {},
   "outputs": [
    {
     "name": "stdout",
     "output_type": "stream",
     "text": [
      "125\n"
     ]
    }
   ],
   "source": [
    "# Task 6\n",
    "# Part 1:\n",
    "def myfun(a,b):\n",
    "    if (b==1):\n",
    "        return a\n",
    "    else:\n",
    "        return a*myfun(a,b-1)\n",
    "print(myfun(5,3))"
   ]
  },
  {
   "cell_type": "code",
   "execution_count": 28,
   "metadata": {},
   "outputs": [
    {
     "name": "stdout",
     "output_type": "stream",
     "text": [
      "2\n",
      "3\n",
      "7\n",
      "9\n",
      "88\n"
     ]
    }
   ],
   "source": [
    "# Part 2\n",
    "\n",
    "mylist = [-4, -6, -5, -1, 2, 3, 7, 9, 88]\n",
    "\n",
    "b = lambda a : a > 0\n",
    "\n",
    "for x in mylist:\n",
    "    if(b(x)): print(x)"
   ]
  },
  {
   "cell_type": "code",
   "execution_count": null,
   "metadata": {},
   "outputs": [],
   "source": []
  }
 ],
 "metadata": {
  "kernelspec": {
   "display_name": "Python 3",
   "language": "python",
   "name": "python3"
  },
  "language_info": {
   "codemirror_mode": {
    "name": "ipython",
    "version": 3
   },
   "file_extension": ".py",
   "mimetype": "text/x-python",
   "name": "python",
   "nbconvert_exporter": "python",
   "pygments_lexer": "ipython3",
   "version": "3.7.3"
  }
 },
 "nbformat": 4,
 "nbformat_minor": 2
}
