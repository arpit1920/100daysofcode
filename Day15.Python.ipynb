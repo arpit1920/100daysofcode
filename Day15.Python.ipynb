{
 "cells": [
  {
   "cell_type": "code",
   "execution_count": 1,
   "metadata": {},
   "outputs": [
    {
     "name": "stdout",
     "output_type": "stream",
     "text": [
      "5\n"
     ]
    }
   ],
   "source": [
    "# Day 15 Python Lists 3\n",
    "#  List Length\n",
    "list = [3,8,55,6,22]\n",
    "print(len(list))"
   ]
  },
  {
   "cell_type": "code",
   "execution_count": 2,
   "metadata": {},
   "outputs": [
    {
     "name": "stdout",
     "output_type": "stream",
     "text": [
      "[3, 8, 55, 6, 22, 66]\n"
     ]
    }
   ],
   "source": [
    "# Add Items\n",
    "# Using the append() method to append an item\n",
    "list = [3,8,55,6,22]\n",
    "list.append(66)\n",
    "print(list)"
   ]
  },
  {
   "cell_type": "code",
   "execution_count": 5,
   "metadata": {},
   "outputs": [
    {
     "name": "stdout",
     "output_type": "stream",
     "text": [
      "[3, 8, 11, 55, 6, 22]\n"
     ]
    }
   ],
   "source": [
    "# To add an item at the specified index, use the insert() method\n",
    "list = [3,8,55,6,22]\n",
    "list.insert(2, 11)\n",
    "print(list)"
   ]
  },
  {
   "cell_type": "code",
   "execution_count": 9,
   "metadata": {},
   "outputs": [
    {
     "name": "stdout",
     "output_type": "stream",
     "text": [
      "[3, 8, 6, 22]\n",
      "[3, 55, 6, 22, 8]\n",
      "[3, 55, 6, 22]\n",
      "[]\n"
     ]
    }
   ],
   "source": [
    "# Remove Item\n",
    "list = [3,8,55,6,22]\n",
    "list.remove(55)\n",
    "print(list)\n",
    "list1 = [3,8,55,6,22, 8]\n",
    "list1.remove(8)\n",
    "print(list1)\n",
    "list1.pop()\n",
    "print(list1)\n",
    "list1.clear()\n",
    "print(list1)"
   ]
  },
  {
   "cell_type": "code",
   "execution_count": 12,
   "metadata": {},
   "outputs": [
    {
     "name": "stdout",
     "output_type": "stream",
     "text": [
      "[3, 8, 55, 6, 22]\n"
     ]
    }
   ],
   "source": [
    "# Copy a List \n",
    "list = [3,8,55,6,22]\n",
    "mylist = list.copy()\n",
    "print(mylist)\n",
    "# Make a copy of a list with the list() method"
   ]
  },
  {
   "cell_type": "code",
   "execution_count": null,
   "metadata": {},
   "outputs": [],
   "source": []
  },
  {
   "cell_type": "code",
   "execution_count": null,
   "metadata": {},
   "outputs": [],
   "source": []
  }
 ],
 "metadata": {
  "kernelspec": {
   "display_name": "Python 3",
   "language": "python",
   "name": "python3"
  },
  "language_info": {
   "codemirror_mode": {
    "name": "ipython",
    "version": 3
   },
   "file_extension": ".py",
   "mimetype": "text/x-python",
   "name": "python",
   "nbconvert_exporter": "python",
   "pygments_lexer": "ipython3",
   "version": "3.7.3"
  }
 },
 "nbformat": 4,
 "nbformat_minor": 2
}
