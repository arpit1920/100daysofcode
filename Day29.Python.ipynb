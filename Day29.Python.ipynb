{
 "cells": [
  {
   "cell_type": "code",
   "execution_count": 13,
   "metadata": {},
   "outputs": [
    {
     "name": "stdout",
     "output_type": "stream",
     "text": [
      "python\n",
      "java\n",
      "SQL\n"
     ]
    }
   ],
   "source": [
    "# Day 29 Python Loops 2\n",
    "thislist = ['python', 'java', 'SQL', 'R', 'CSS']\n",
    "for x in thislist:\n",
    "    print(x)\n",
    "    if x == \"SQL\":\n",
    "        break"
   ]
  },
  {
   "cell_type": "code",
   "execution_count": 14,
   "metadata": {},
   "outputs": [
    {
     "name": "stdout",
     "output_type": "stream",
     "text": [
      "C\n",
      "S\n",
      "S\n"
     ]
    }
   ],
   "source": [
    "thislist = ['python', 'java', 'SQL', 'R', 'CSS']\n",
    "for x in 'CSS':\n",
    "        print(x)"
   ]
  },
  {
   "cell_type": "code",
   "execution_count": 21,
   "metadata": {},
   "outputs": [
    {
     "name": "stdout",
     "output_type": "stream",
     "text": [
      "python\n",
      "SQL\n",
      "R\n",
      "CSS\n"
     ]
    }
   ],
   "source": [
    "thislist = ['python', 'java', 'SQL', 'R', 'CSS']\n",
    "for x in thislist:\n",
    "    if x == \"java\":\n",
    "        continue \n",
    "    print(x)"
   ]
  },
  {
   "cell_type": "code",
   "execution_count": null,
   "metadata": {},
   "outputs": [],
   "source": []
  }
 ],
 "metadata": {
  "kernelspec": {
   "display_name": "Python 3",
   "language": "python",
   "name": "python3"
  },
  "language_info": {
   "codemirror_mode": {
    "name": "ipython",
    "version": 3
   },
   "file_extension": ".py",
   "mimetype": "text/x-python",
   "name": "python",
   "nbconvert_exporter": "python",
   "pygments_lexer": "ipython3",
   "version": "3.7.3"
  }
 },
 "nbformat": 4,
 "nbformat_minor": 2
}
