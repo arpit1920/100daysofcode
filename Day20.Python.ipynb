{
 "cells": [
  {
   "cell_type": "code",
   "execution_count": 6,
   "metadata": {},
   "outputs": [
    {
     "name": "stdout",
     "output_type": "stream",
     "text": [
      "{}\n",
      "{8, 9, 3, 5}\n",
      "8\n",
      "9\n",
      "3\n",
      "5\n",
      "True\n",
      "False\n",
      "{2, 3, 5, 8, 9}\n"
     ]
    }
   ],
   "source": [
    "# Day 20 Python Sets\n",
    "Firstset = {}\n",
    "print(Firstset)\n",
    "Firstset = {3,5,8,9}\n",
    "print(Firstset)\n",
    "# القيم لا تتكرر + غير مرتبة\n",
    "# Access Items\n",
    "for x in Firstset:\n",
    "    print(x)\n",
    "print(5 in Firstset)\n",
    "print(2 in Firstset)\n",
    "# Once a set is created, you cannot change its items, but you can add new items\n",
    "# Add items; To add one item to a set use the add() method, To add more than one item to a set use the update() method\n",
    "Firstset.add(2)\n",
    "print(Firstset)\n"
   ]
  },
  {
   "cell_type": "code",
   "execution_count": null,
   "metadata": {},
   "outputs": [],
   "source": []
  }
 ],
 "metadata": {
  "kernelspec": {
   "display_name": "Python 3",
   "language": "python",
   "name": "python3"
  },
  "language_info": {
   "codemirror_mode": {
    "name": "ipython",
    "version": 3
   },
   "file_extension": ".py",
   "mimetype": "text/x-python",
   "name": "python",
   "nbconvert_exporter": "python",
   "pygments_lexer": "ipython3",
   "version": "3.7.3"
  }
 },
 "nbformat": 4,
 "nbformat_minor": 2
}
