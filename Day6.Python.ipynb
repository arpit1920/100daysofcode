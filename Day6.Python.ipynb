{
 "cells": [
  {
   "cell_type": "code",
   "execution_count": 2,
   "metadata": {},
   "outputs": [
    {
     "name": "stdout",
     "output_type": "stream",
     "text": [
      "33\n",
      "8\n"
     ]
    }
   ],
   "source": [
    "# Day 6 Python Casting\n",
    "\n",
    "# Integers:\n",
    "a = int(33.78) # a will be 33\n",
    "b = int(\"8\") # b will be 8\n",
    "print(a)\n",
    "print(b)"
   ]
  },
  {
   "cell_type": "code",
   "execution_count": 3,
   "metadata": {},
   "outputs": [
    {
     "name": "stdout",
     "output_type": "stream",
     "text": [
      "4.0\n",
      "55.0\n",
      "8.2\n"
     ]
    }
   ],
   "source": [
    "# Floats:\n",
    "a = float(4) # a will be 4.0\n",
    "b = float(\"55\") # b will be 55.0\n",
    "c = float(8.2) # c will be 8.2\n",
    "print(a)\n",
    "print(b)\n",
    "print(c)"
   ]
  },
  {
   "cell_type": "code",
   "execution_count": 5,
   "metadata": {},
   "outputs": [
    {
     "name": "stdout",
     "output_type": "stream",
     "text": [
      "August\n",
      "4\n",
      "1.5\n"
     ]
    }
   ],
   "source": [
    "# Strings:\n",
    "a = str(\"August\") # a will be 'August'\n",
    "b = str(4) # b will be '4'\n",
    "c = str(1.5) # c will be '1.5'\n",
    "print(a)\n",
    "print(b)\n",
    "print(c)"
   ]
  },
  {
   "cell_type": "code",
   "execution_count": null,
   "metadata": {},
   "outputs": [],
   "source": []
  }
 ],
 "metadata": {
  "kernelspec": {
   "display_name": "Python 3",
   "language": "python",
   "name": "python3"
  },
  "language_info": {
   "codemirror_mode": {
    "name": "ipython",
    "version": 3
   },
   "file_extension": ".py",
   "mimetype": "text/x-python",
   "name": "python",
   "nbconvert_exporter": "python",
   "pygments_lexer": "ipython3",
   "version": "3.7.3"
  }
 },
 "nbformat": 4,
 "nbformat_minor": 2
}
